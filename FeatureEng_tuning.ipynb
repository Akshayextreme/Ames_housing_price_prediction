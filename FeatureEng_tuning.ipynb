{
 "cells": [
  {
   "cell_type": "code",
   "execution_count": 1,
   "id": "4e643a81-f930-4909-b6d8-8d9080ae9d1b",
   "metadata": {},
   "outputs": [],
   "source": [
    "import pandas as pd\n",
    "import numpy as np\n",
    "import matplotlib.pyplot as plt\n",
    "import seaborn as sns\n",
    "from sklearn.metrics import mean_absolute_error, mean_squared_error, r2_score\n",
    "from sklearn.model_selection import cross_val_score\n",
    "from sklearn.ensemble import RandomForestRegressor"
   ]
  },
  {
   "cell_type": "code",
   "execution_count": 2,
   "id": "41098c5d-0958-4608-83c8-919af69f7740",
   "metadata": {},
   "outputs": [],
   "source": [
    "from utils import log_mlflow, modelresults"
   ]
  },
  {
   "cell_type": "code",
   "execution_count": 3,
   "id": "9515e41c-dcec-4e72-974e-6958b6ce3106",
   "metadata": {},
   "outputs": [
    {
     "data": {
      "text/plain": [
       "<Experiment: artifact_location='./mlruns/1', creation_time=1708487973280, experiment_id='1', last_update_time=1708487973280, lifecycle_stage='active', name='PriceHubble assignment', tags={}>"
      ]
     },
     "execution_count": 3,
     "metadata": {},
     "output_type": "execute_result"
    }
   ],
   "source": [
    "import mlflow\n",
    "\n",
    "mlflow.set_tracking_uri(uri=\"http://localhost:8080\")\n",
    "mlflow.set_experiment(\"PriceHubble assignment\")"
   ]
  },
  {
   "cell_type": "code",
   "execution_count": 4,
   "id": "c52d1aaf-7c2e-496e-80ef-7f7e4d662e84",
   "metadata": {},
   "outputs": [],
   "source": [
    "X_train = pd.read_parquet('X_train.parquet')\n",
    "X_test = pd.read_parquet('X_test.parquet')\n",
    "y_train = pd.read_csv('y_train.csv')\n",
    "y_test = pd.read_csv('y_test.csv')"
   ]
  },
  {
   "cell_type": "code",
   "execution_count": 5,
   "id": "b41299bc-5fb4-4803-baf0-57a457a080d3",
   "metadata": {},
   "outputs": [],
   "source": [
    "def gen_new_features(data):\n",
    "    df = data.copy(deep=True)\n",
    "    # To remove multicollinearity and simplying features\n",
    "    df['totalSqFeet'] = df['total_bsmt_sq_ft'] + df['gr_living_area_sq_ft']\n",
    "    df['totalBathroom'] = df.full_bath_count + df.bsmt_full_bath_count + 0.5 * (df.half_bath_count + df.bsmt_half_bath_count)\n",
    "    df['totalPorch_sq_ft'] = df['open_porch_sq_ft'] + df['three_season_porch_sq_ft'] + df['enclosed_porch_sq_ft'] + df['screen_porch_sq_ft'] + df['wood_deck_sq_ft']\n",
    "    df['houseAge'] = df.year_sold - df.year_built\n",
    "    df['reModeled'] = np.where(df.year_remod_add == df.year_built, 0, 1)\n",
    "    # Some properties were sold as soon as they were build\n",
    "    df['isNew'] = np.where(df.year_sold == df.year_built, 1, 0)\n",
    "\n",
    "    df.drop(columns=['bsmt_fin_type_1_sq_ft', 'bsmt_fin_type_2_sq_ft', 'bsmt_unf_sq_ft', 'first_flr_sq_ft', \n",
    "                     'second_flr_sq_ft', 'low_quality_fin_sq_ft', 'total_bsmt_sq_ft', 'gr_living_area_sq_ft', \n",
    "                     'full_bath_count', 'bsmt_full_bath_count', 'half_bath_count', 'bsmt_half_bath_count', 'year_sold', \n",
    "                     'year_built', 'year_remod_add', 'open_porch_sq_ft', 'three_season_porch_sq_ft', 'enclosed_porch_sq_ft', \n",
    "                     'screen_porch_sq_ft', 'wood_deck_sq_ft'], inplace=True)\n",
    "    print(df.shape)\n",
    "    return df"
   ]
  },
  {
   "cell_type": "code",
   "execution_count": 6,
   "id": "0aac792e-0eab-4837-9e1c-72a6e9f16c0c",
   "metadata": {},
   "outputs": [
    {
     "name": "stdout",
     "output_type": "stream",
     "text": [
      "(2341, 230)\n"
     ]
    }
   ],
   "source": [
    "X_train = gen_new_features(X_train)"
   ]
  },
  {
   "cell_type": "code",
   "execution_count": 7,
   "id": "1d158b81-3b68-4ea4-bbe0-252fa79bffc6",
   "metadata": {},
   "outputs": [
    {
     "name": "stdout",
     "output_type": "stream",
     "text": [
      "(586, 230)\n"
     ]
    }
   ],
   "source": [
    "X_test = gen_new_features(X_test)"
   ]
  },
  {
   "cell_type": "code",
   "execution_count": 8,
   "id": "4871eb4a-64aa-470f-9074-38bbbe5a0793",
   "metadata": {},
   "outputs": [],
   "source": [
    "rf = RandomForestRegressor(n_estimators=50, n_jobs=-1)\n",
    "rf = rf.fit(X_train, y_train['sale_price'])"
   ]
  },
  {
   "cell_type": "code",
   "execution_count": 9,
   "id": "f4c2279c-18ae-406a-ba74-f95b80ec1b3b",
   "metadata": {},
   "outputs": [],
   "source": [
    "y_pred = rf.predict(X_test)"
   ]
  },
  {
   "cell_type": "code",
   "execution_count": 10,
   "id": "1e1a571c-3ddb-4f3c-9aae-630f4cf2d42e",
   "metadata": {},
   "outputs": [
    {
     "name": "stdout",
     "output_type": "stream",
     "text": [
      "Mean absolute error on model is 14824.7166\n",
      "\n",
      "Mean squared error on model is 561544738.5536\n",
      "\n",
      "The r2 score on model is 0.9303\n"
     ]
    }
   ],
   "source": [
    "mae, mse, r2 = modelresults(y_test, y_pred)"
   ]
  },
  {
   "cell_type": "code",
   "execution_count": 11,
   "id": "c37e5912-2867-4637-b513-2084e0f14846",
   "metadata": {},
   "outputs": [
    {
     "data": {
      "image/png": "[encoded data removed]",
      "text/plain": [
       "<Figure size 864x432 with 1 Axes>"
      ]
     },
     "metadata": {
      "needs_background": "light"
     },
     "output_type": "display_data"
    }
   ],
   "source": [
    "rankings = rf.feature_importances_.tolist()\n",
    "importance = pd.DataFrame(sorted(zip(X_train.columns,rankings),reverse=True),columns=[\"variable\",\"importance\"]).sort_values(\"importance\",ascending = False)\n",
    "\n",
    "fig = plt.figure(figsize=(12,6))\n",
    "sns.barplot(x=\"importance\",\n",
    "            y=\"variable\",\n",
    "            data=importance.iloc[:10, :])\n",
    "plt.title('Variable Importance')\n",
    "plt.tight_layout()"
   ]
  },
  {
   "cell_type": "code",
   "execution_count": 12,
   "id": "b172b2c8-f1a7-422e-a30c-dc2e5cadb75c",
   "metadata": {},
   "outputs": [
    {
     "name": "stderr",
     "output_type": "stream",
     "text": [
      "/home/akshay/envs/topic_modeling/lib/python3.8/site-packages/mlflow/types/utils.py:393: UserWarning: Hint: Inferred schema contains integer column(s). Integer columns in Python cannot represent missing values. If your input data contains missing values at inference time, it will be encoded as floats and will cause a schema enforcement error. The best way to avoid this problem is to infer the model schema based on a realistic data sample (training dataset) that includes missing values. Alternatively, you can declare integer columns as doubles (float64) whenever these columns may have missing values. See `Handling Integers With Missing Values <https://www.mlflow.org/docs/latest/models.html#handling-integers-with-missing-values>`_ for more details.\n",
      "  warnings.warn(\n",
      "Successfully registered model 'RF_featureEng'.\n",
      "2024/02/21 04:11:02 INFO mlflow.store.model_registry.abstract_store: Waiting up to 300 seconds for model version to finish creation. Model name: RF_featureEng, version 1\n",
      "Created version '1' of model 'RF_featureEng'.\n"
     ]
    }
   ],
   "source": [
    "log_mlflow(rf.get_params(), mae, mse, r2, fig, X_train, rf, run_name='RF_featureEng', description='Random Forest with feature engineering')"
   ]
  },
  {
   "cell_type": "code",
   "execution_count": 13,
   "id": "c62d6b30-68dc-4087-9490-29071e863971",
   "metadata": {},
   "outputs": [],
   "source": [
    "import optuna"
   ]
  },
  {
   "cell_type": "code",
   "execution_count": 14,
   "id": "82bccdbf-dc67-438e-8a39-687f8d64e886",
   "metadata": {},
   "outputs": [],
   "source": [
    "def objective(trial):\n",
    "    n_estimators = trial.suggest_int('n_estimators', 10, 1000)\n",
    "    max_depth = trial.suggest_int('max_depth', 5, 50)\n",
    "    min_samples_split = trial.suggest_int('min_samples_split', 2, 32)\n",
    "    min_samples_leaf = trial.suggest_int('min_samples_leaf', 1, 32)\n",
    "    max_features = trial.suggest_categorical('max_features', ['sqrt', 'log2', None])\n",
    "\n",
    "    model = RandomForestRegressor(\n",
    "        n_estimators=n_estimators,\n",
    "        max_depth=max_depth,\n",
    "        min_samples_split=min_samples_split,\n",
    "        min_samples_leaf=min_samples_leaf,\n",
    "        max_features=max_features,\n",
    "        random_state= 42,\n",
    "        n_jobs=-1\n",
    "    )\n",
    "\n",
    "    scores = cross_val_score(\n",
    "        model, X_train, y_train['sale_price'], cv=5, scoring='neg_mean_squared_error'\n",
    "    )\n",
    "        \n",
    "    return np.mean(scores)"
   ]
  },
  {
   "cell_type": "code",
   "execution_count": 15,
   "id": "f7b08528-4c35-4703-8015-1535a7f3a211",
   "metadata": {},
   "outputs": [
    {
     "name": "stderr",
     "output_type": "stream",
     "text": [
      "[I 2024-02-21 04:11:02,802] A new study created in memory with name: no-name-3ba30306-bf8e-4e64-b2bf-71b567e13ac8\n"
     ]
    }
   ],
   "source": [
    "study = optuna.create_study(direction='maximize', sampler=optuna.samplers.RandomSampler(seed=42))"
   ]
  },
  {
   "cell_type": "code",
   "execution_count": null,
   "id": "b9fe29c1-b5e6-47c4-90de-8c31456f14fd",
   "metadata": {},
   "outputs": [],
   "source": [
    "study.optimize(objective, n_trials=200, n_jobs=-1)"
   ]
  },
  {
   "cell_type": "code",
   "execution_count": 17,
   "id": "5b1bf0a5-21bd-48e3-bb3b-30e59ec836e7",
   "metadata": {},
   "outputs": [
    {
     "name": "stdout",
     "output_type": "stream",
     "text": [
      "Best trial:\n",
      "Value: -608919165.7940\n",
      "Params: \n",
      "    n_estimators: 483\n",
      "    max_depth: 44\n",
      "    min_samples_split: 9\n",
      "    min_samples_leaf: 1\n",
      "    max_features: None\n"
     ]
    }
   ],
   "source": [
    "# Print the best parameters found \n",
    "print(\"Best trial:\")\n",
    "trial = study.best_trial\n",
    "\n",
    "print(\"Value: {:.4f}\".format(trial.value))\n",
    "\n",
    "print(\"Params: \")\n",
    "for key, value in trial.params.items():\n",
    "    print(\"    {}: {}\".format(key, value))"
   ]
  },
  {
   "cell_type": "code",
   "execution_count": 18,
   "id": "3168d769-8629-44a9-b564-02d770958d91",
   "metadata": {},
   "outputs": [],
   "source": [
    "rf = RandomForestRegressor(**study.best_trial.params, n_jobs=-1)"
   ]
  },
  {
   "cell_type": "code",
   "execution_count": 19,
   "id": "d2adf578-cb5e-4f2a-a3c8-224ece1be8bf",
   "metadata": {},
   "outputs": [
    {
     "name": "stderr",
     "output_type": "stream",
     "text": [
      "/tmp/ipykernel_168935/727510542.py:1: DataConversionWarning: A column-vector y was passed when a 1d array was expected. Please change the shape of y to (n_samples,), for example using ravel().\n",
      "  rf = rf.fit(X_train, y_train)\n"
     ]
    }
   ],
   "source": [
    "rf = rf.fit(X_train, y_train['sale_price'])"
   ]
  },
  {
   "cell_type": "code",
   "execution_count": 20,
   "id": "a465c318-c52f-482b-ac2c-c06b85804178",
   "metadata": {},
   "outputs": [],
   "source": [
    "y_pred = rf.predict(X_test)"
   ]
  },
  {
   "cell_type": "code",
   "execution_count": 21,
   "id": "a6509658-3c3c-4f34-bdfb-1a0d26da9ffe",
   "metadata": {},
   "outputs": [
    {
     "name": "stdout",
     "output_type": "stream",
     "text": [
      "Mean absolute error on model is 14841.2318\n",
      "\n",
      "Mean squared error on model is 559386105.0651\n",
      "\n",
      "The r2 score on model is 0.9306\n"
     ]
    }
   ],
   "source": [
    "mae, mse, r2 = modelresults(y_test, y_pred)"
   ]
  },
  {
   "cell_type": "code",
   "execution_count": 22,
   "id": "6eacb749-46ff-4bd1-a25c-32250a408bdf",
   "metadata": {},
   "outputs": [
    {
     "data": {
      "image/png": "[encoded data removed]",
      "text/plain": [
       "<Figure size 864x432 with 1 Axes>"
      ]
     },
     "metadata": {
      "needs_background": "light"
     },
     "output_type": "display_data"
    }
   ],
   "source": [
    "rankings = rf.feature_importances_.tolist()\n",
    "importance = pd.DataFrame(sorted(zip(X_train.columns,rankings),reverse=True),columns=[\"variable\",\"importance\"]).sort_values(\"importance\",ascending = False)\n",
    "\n",
    "fig = plt.figure(figsize=(12,6))\n",
    "sns.barplot(x=\"importance\",\n",
    "            y=\"variable\",\n",
    "            data=importance.iloc[:10, :])\n",
    "plt.title('Variable Importance')\n",
    "plt.tight_layout()"
   ]
  },
  {
   "cell_type": "code",
   "execution_count": 23,
   "id": "a2a410b0-ee2a-4431-a3ae-9e57fb481844",
   "metadata": {},
   "outputs": [
    {
     "name": "stderr",
     "output_type": "stream",
     "text": [
      "/home/akshay/envs/topic_modeling/lib/python3.8/site-packages/mlflow/types/utils.py:393: UserWarning: Hint: Inferred schema contains integer column(s). Integer columns in Python cannot represent missing values. If your input data contains missing values at inference time, it will be encoded as floats and will cause a schema enforcement error. The best way to avoid this problem is to infer the model schema based on a realistic data sample (training dataset) that includes missing values. Alternatively, you can declare integer columns as doubles (float64) whenever these columns may have missing values. See `Handling Integers With Missing Values <https://www.mlflow.org/docs/latest/models.html#handling-integers-with-missing-values>`_ for more details.\n",
      "  warnings.warn(\n",
      "Successfully registered model 'RF_optuna'.\n",
      "2024/02/21 04:18:15 INFO mlflow.store.model_registry.abstract_store: Waiting up to 300 seconds for model version to finish creation. Model name: RF_optuna, version 1\n",
      "Created version '1' of model 'RF_optuna'.\n"
     ]
    }
   ],
   "source": [
    "log_mlflow(rf.get_params(), mae, mse, r2, fig, X_train, rf, run_name='RF_optuna', description='Random Forest with Optuna tuning')"
   ]
  },
  {
   "cell_type": "code",
   "execution_count": 24,
   "id": "99c6b18a-4d98-4726-aa7d-524ca2d41980",
   "metadata": {},
   "outputs": [],
   "source": [
    "predictions = pd.concat([y_test.reset_index(drop=True), pd.DataFrame(y_pred, columns=['pred_salesPrice'])], axis=1)"
   ]
  },
  {
   "cell_type": "code",
   "execution_count": 25,
   "id": "554318b2-491a-4bff-b632-4293d9c5ba69",
   "metadata": {},
   "outputs": [],
   "source": [
    "test_data = pd.concat([X_test.reset_index(drop=True), predictions], axis=1)"
   ]
  },
  {
   "cell_type": "code",
   "execution_count": 26,
   "id": "504e7a06-0a60-4441-be99-57f937d8ca7f",
   "metadata": {},
   "outputs": [
    {
     "data": {
      "text/html": [
       "<div>\n",
       "<style scoped>\n",
       "    .dataframe tbody tr th:only-of-type {\n",
       "        vertical-align: middle;\n",
       "    }\n",
       "\n",
       "    .dataframe tbody tr th {\n",
       "        vertical-align: top;\n",
       "    }\n",
       "\n",
       "    .dataframe thead th {\n",
       "        text-align: right;\n",
       "    }\n",
       "</style>\n",
       "<table border=\"1\" class=\"dataframe\">\n",
       "  <thead>\n",
       "    <tr style=\"text-align: right;\">\n",
       "      <th></th>\n",
       "      <th>lot_frontage_ft</th>\n",
       "      <th>lot_area_sq_ft</th>\n",
       "      <th>lot_shape</th>\n",
       "      <th>land_slope</th>\n",
       "      <th>overall_quality_rating</th>\n",
       "      <th>overall_condition_rating</th>\n",
       "      <th>masonry_veneer_area_sq_ft</th>\n",
       "      <th>exterior_quality_rating</th>\n",
       "      <th>exterior_condition_rating</th>\n",
       "      <th>bsmt_quality_rating</th>\n",
       "      <th>...</th>\n",
       "      <th>sale_condition_Normal</th>\n",
       "      <th>sale_condition_Partial</th>\n",
       "      <th>totalSqFeet</th>\n",
       "      <th>totalBathroom</th>\n",
       "      <th>houseAge</th>\n",
       "      <th>reModeled</th>\n",
       "      <th>isNew</th>\n",
       "      <th>totalPorch_sq_ft</th>\n",
       "      <th>sale_price</th>\n",
       "      <th>pred_salesPrice</th>\n",
       "    </tr>\n",
       "  </thead>\n",
       "  <tbody>\n",
       "    <tr>\n",
       "      <th>0</th>\n",
       "      <td>82</td>\n",
       "      <td>10672</td>\n",
       "      <td>2</td>\n",
       "      <td>2</td>\n",
       "      <td>7</td>\n",
       "      <td>4</td>\n",
       "      <td>0</td>\n",
       "      <td>3</td>\n",
       "      <td>2</td>\n",
       "      <td>5</td>\n",
       "      <td>...</td>\n",
       "      <td>0</td>\n",
       "      <td>1</td>\n",
       "      <td>3443</td>\n",
       "      <td>2.5</td>\n",
       "      <td>0</td>\n",
       "      <td>0</td>\n",
       "      <td>1</td>\n",
       "      <td>240</td>\n",
       "      <td>298236</td>\n",
       "      <td>310008.807211</td>\n",
       "    </tr>\n",
       "    <tr>\n",
       "      <th>1</th>\n",
       "      <td>53</td>\n",
       "      <td>6360</td>\n",
       "      <td>3</td>\n",
       "      <td>2</td>\n",
       "      <td>4</td>\n",
       "      <td>5</td>\n",
       "      <td>300</td>\n",
       "      <td>2</td>\n",
       "      <td>2</td>\n",
       "      <td>3</td>\n",
       "      <td>...</td>\n",
       "      <td>1</td>\n",
       "      <td>0</td>\n",
       "      <td>2288</td>\n",
       "      <td>1.5</td>\n",
       "      <td>68</td>\n",
       "      <td>1</td>\n",
       "      <td>0</td>\n",
       "      <td>183</td>\n",
       "      <td>132000</td>\n",
       "      <td>132130.274600</td>\n",
       "    </tr>\n",
       "    <tr>\n",
       "      <th>2</th>\n",
       "      <td>60</td>\n",
       "      <td>8238</td>\n",
       "      <td>2</td>\n",
       "      <td>2</td>\n",
       "      <td>5</td>\n",
       "      <td>4</td>\n",
       "      <td>0</td>\n",
       "      <td>2</td>\n",
       "      <td>2</td>\n",
       "      <td>3</td>\n",
       "      <td>...</td>\n",
       "      <td>1</td>\n",
       "      <td>0</td>\n",
       "      <td>2338</td>\n",
       "      <td>3.5</td>\n",
       "      <td>9</td>\n",
       "      <td>1</td>\n",
       "      <td>0</td>\n",
       "      <td>493</td>\n",
       "      <td>183500</td>\n",
       "      <td>187738.004447</td>\n",
       "    </tr>\n",
       "    <tr>\n",
       "      <th>3</th>\n",
       "      <td>63</td>\n",
       "      <td>9729</td>\n",
       "      <td>2</td>\n",
       "      <td>2</td>\n",
       "      <td>5</td>\n",
       "      <td>4</td>\n",
       "      <td>0</td>\n",
       "      <td>3</td>\n",
       "      <td>2</td>\n",
       "      <td>4</td>\n",
       "      <td>...</td>\n",
       "      <td>0</td>\n",
       "      <td>1</td>\n",
       "      <td>2444</td>\n",
       "      <td>3.5</td>\n",
       "      <td>1</td>\n",
       "      <td>1</td>\n",
       "      <td>0</td>\n",
       "      <td>34</td>\n",
       "      <td>198444</td>\n",
       "      <td>181420.413831</td>\n",
       "    </tr>\n",
       "    <tr>\n",
       "      <th>4</th>\n",
       "      <td>84</td>\n",
       "      <td>14260</td>\n",
       "      <td>2</td>\n",
       "      <td>2</td>\n",
       "      <td>7</td>\n",
       "      <td>4</td>\n",
       "      <td>350</td>\n",
       "      <td>3</td>\n",
       "      <td>2</td>\n",
       "      <td>4</td>\n",
       "      <td>...</td>\n",
       "      <td>1</td>\n",
       "      <td>0</td>\n",
       "      <td>3343</td>\n",
       "      <td>3.5</td>\n",
       "      <td>8</td>\n",
       "      <td>0</td>\n",
       "      <td>0</td>\n",
       "      <td>276</td>\n",
       "      <td>250000</td>\n",
       "      <td>279930.100949</td>\n",
       "    </tr>\n",
       "    <tr>\n",
       "      <th>...</th>\n",
       "      <td>...</td>\n",
       "      <td>...</td>\n",
       "      <td>...</td>\n",
       "      <td>...</td>\n",
       "      <td>...</td>\n",
       "      <td>...</td>\n",
       "      <td>...</td>\n",
       "      <td>...</td>\n",
       "      <td>...</td>\n",
       "      <td>...</td>\n",
       "      <td>...</td>\n",
       "      <td>...</td>\n",
       "      <td>...</td>\n",
       "      <td>...</td>\n",
       "      <td>...</td>\n",
       "      <td>...</td>\n",
       "      <td>...</td>\n",
       "      <td>...</td>\n",
       "      <td>...</td>\n",
       "      <td>...</td>\n",
       "      <td>...</td>\n",
       "    </tr>\n",
       "    <tr>\n",
       "      <th>581</th>\n",
       "      <td>0</td>\n",
       "      <td>9233</td>\n",
       "      <td>2</td>\n",
       "      <td>2</td>\n",
       "      <td>8</td>\n",
       "      <td>4</td>\n",
       "      <td>877</td>\n",
       "      <td>3</td>\n",
       "      <td>2</td>\n",
       "      <td>5</td>\n",
       "      <td>...</td>\n",
       "      <td>1</td>\n",
       "      <td>0</td>\n",
       "      <td>4395</td>\n",
       "      <td>3.5</td>\n",
       "      <td>6</td>\n",
       "      <td>0</td>\n",
       "      <td>0</td>\n",
       "      <td>302</td>\n",
       "      <td>405000</td>\n",
       "      <td>402584.275529</td>\n",
       "    </tr>\n",
       "    <tr>\n",
       "      <th>582</th>\n",
       "      <td>80</td>\n",
       "      <td>10400</td>\n",
       "      <td>3</td>\n",
       "      <td>2</td>\n",
       "      <td>6</td>\n",
       "      <td>4</td>\n",
       "      <td>189</td>\n",
       "      <td>2</td>\n",
       "      <td>2</td>\n",
       "      <td>4</td>\n",
       "      <td>...</td>\n",
       "      <td>0</td>\n",
       "      <td>0</td>\n",
       "      <td>2460</td>\n",
       "      <td>2.0</td>\n",
       "      <td>33</td>\n",
       "      <td>0</td>\n",
       "      <td>0</td>\n",
       "      <td>0</td>\n",
       "      <td>152000</td>\n",
       "      <td>156623.927033</td>\n",
       "    </tr>\n",
       "    <tr>\n",
       "      <th>583</th>\n",
       "      <td>116</td>\n",
       "      <td>13501</td>\n",
       "      <td>2</td>\n",
       "      <td>2</td>\n",
       "      <td>7</td>\n",
       "      <td>4</td>\n",
       "      <td>208</td>\n",
       "      <td>3</td>\n",
       "      <td>2</td>\n",
       "      <td>4</td>\n",
       "      <td>...</td>\n",
       "      <td>1</td>\n",
       "      <td>0</td>\n",
       "      <td>3259</td>\n",
       "      <td>3.0</td>\n",
       "      <td>1</td>\n",
       "      <td>0</td>\n",
       "      <td>0</td>\n",
       "      <td>60</td>\n",
       "      <td>255000</td>\n",
       "      <td>271103.472689</td>\n",
       "    </tr>\n",
       "    <tr>\n",
       "      <th>584</th>\n",
       "      <td>130</td>\n",
       "      <td>11457</td>\n",
       "      <td>2</td>\n",
       "      <td>2</td>\n",
       "      <td>5</td>\n",
       "      <td>4</td>\n",
       "      <td>0</td>\n",
       "      <td>2</td>\n",
       "      <td>2</td>\n",
       "      <td>4</td>\n",
       "      <td>...</td>\n",
       "      <td>1</td>\n",
       "      <td>0</td>\n",
       "      <td>2804</td>\n",
       "      <td>3.0</td>\n",
       "      <td>21</td>\n",
       "      <td>0</td>\n",
       "      <td>0</td>\n",
       "      <td>169</td>\n",
       "      <td>175000</td>\n",
       "      <td>193655.995018</td>\n",
       "    </tr>\n",
       "    <tr>\n",
       "      <th>585</th>\n",
       "      <td>75</td>\n",
       "      <td>9532</td>\n",
       "      <td>3</td>\n",
       "      <td>2</td>\n",
       "      <td>3</td>\n",
       "      <td>5</td>\n",
       "      <td>0</td>\n",
       "      <td>2</td>\n",
       "      <td>2</td>\n",
       "      <td>3</td>\n",
       "      <td>...</td>\n",
       "      <td>1</td>\n",
       "      <td>0</td>\n",
       "      <td>2752</td>\n",
       "      <td>2.0</td>\n",
       "      <td>54</td>\n",
       "      <td>0</td>\n",
       "      <td>0</td>\n",
       "      <td>225</td>\n",
       "      <td>153000</td>\n",
       "      <td>149254.144274</td>\n",
       "    </tr>\n",
       "  </tbody>\n",
       "</table>\n",
       "<p>586 rows × 232 columns</p>\n",
       "</div>"
      ],
      "text/plain": [
       "     lot_frontage_ft  lot_area_sq_ft  lot_shape  land_slope  \\\n",
       "0                 82           10672          2           2   \n",
       "1                 53            6360          3           2   \n",
       "2                 60            8238          2           2   \n",
       "3                 63            9729          2           2   \n",
       "4                 84           14260          2           2   \n",
       "..               ...             ...        ...         ...   \n",
       "581                0            9233          2           2   \n",
       "582               80           10400          3           2   \n",
       "583              116           13501          2           2   \n",
       "584              130           11457          2           2   \n",
       "585               75            9532          3           2   \n",
       "\n",
       "     overall_quality_rating  overall_condition_rating  \\\n",
       "0                         7                         4   \n",
       "1                         4                         5   \n",
       "2                         5                         4   \n",
       "3                         5                         4   \n",
       "4                         7                         4   \n",
       "..                      ...                       ...   \n",
       "581                       8                         4   \n",
       "582                       6                         4   \n",
       "583                       7                         4   \n",
       "584                       5                         4   \n",
       "585                       3                         5   \n",
       "\n",
       "     masonry_veneer_area_sq_ft  exterior_quality_rating  \\\n",
       "0                            0                        3   \n",
       "1                          300                        2   \n",
       "2                            0                        2   \n",
       "3                            0                        3   \n",
       "4                          350                        3   \n",
       "..                         ...                      ...   \n",
       "581                        877                        3   \n",
       "582                        189                        2   \n",
       "583                        208                        3   \n",
       "584                          0                        2   \n",
       "585                          0                        2   \n",
       "\n",
       "     exterior_condition_rating  bsmt_quality_rating  ...  \\\n",
       "0                            2                    5  ...   \n",
       "1                            2                    3  ...   \n",
       "2                            2                    3  ...   \n",
       "3                            2                    4  ...   \n",
       "4                            2                    4  ...   \n",
       "..                         ...                  ...  ...   \n",
       "581                          2                    5  ...   \n",
       "582                          2                    4  ...   \n",
       "583                          2                    4  ...   \n",
       "584                          2                    4  ...   \n",
       "585                          2                    3  ...   \n",
       "\n",
       "     sale_condition_Normal  sale_condition_Partial  totalSqFeet  \\\n",
       "0                        0                       1         3443   \n",
       "1                        1                       0         2288   \n",
       "2                        1                       0         2338   \n",
       "3                        0                       1         2444   \n",
       "4                        1                       0         3343   \n",
       "..                     ...                     ...          ...   \n",
       "581                      1                       0         4395   \n",
       "582                      0                       0         2460   \n",
       "583                      1                       0         3259   \n",
       "584                      1                       0         2804   \n",
       "585                      1                       0         2752   \n",
       "\n",
       "     totalBathroom  houseAge  reModeled  isNew  totalPorch_sq_ft  sale_price  \\\n",
       "0              2.5         0          0      1               240      298236   \n",
       "1              1.5        68          1      0               183      132000   \n",
       "2              3.5         9          1      0               493      183500   \n",
       "3              3.5         1          1      0                34      198444   \n",
       "4              3.5         8          0      0               276      250000   \n",
       "..             ...       ...        ...    ...               ...         ...   \n",
       "581            3.5         6          0      0               302      405000   \n",
       "582            2.0        33          0      0                 0      152000   \n",
       "583            3.0         1          0      0                60      255000   \n",
       "584            3.0        21          0      0               169      175000   \n",
       "585            2.0        54          0      0               225      153000   \n",
       "\n",
       "     pred_salesPrice  \n",
       "0      310008.807211  \n",
       "1      132130.274600  \n",
       "2      187738.004447  \n",
       "3      181420.413831  \n",
       "4      279930.100949  \n",
       "..               ...  \n",
       "581    402584.275529  \n",
       "582    156623.927033  \n",
       "583    271103.472689  \n",
       "584    193655.995018  \n",
       "585    149254.144274  \n",
       "\n",
       "[586 rows x 232 columns]"
      ]
     },
     "execution_count": 26,
     "metadata": {},
     "output_type": "execute_result"
    }
   ],
   "source": [
    "test_data"
   ]
  },
  {
   "cell_type": "code",
   "execution_count": 27,
   "id": "9b74893f-6f8d-42ff-9454-33ad4af00c84",
   "metadata": {},
   "outputs": [],
   "source": [
    "test_data['error'] = test_data['sale_price'] - test_data['pred_salesPrice']\n",
    "test_data['abs_error'] = abs(test_data['sale_price'] - test_data['pred_salesPrice'])"
   ]
  },
  {
   "cell_type": "code",
   "execution_count": 28,
   "id": "252bc0c7-e903-4e3f-a8ec-07c10930a68b",
   "metadata": {},
   "outputs": [
    {
     "data": {
      "text/plain": [
       "(586, 234)"
      ]
     },
     "execution_count": 28,
     "metadata": {},
     "output_type": "execute_result"
    }
   ],
   "source": [
    "test_data.shape"
   ]
  },
  {
   "cell_type": "code",
   "execution_count": 29,
   "id": "30719919-a166-4392-b0e4-438e1d9c4ad4",
   "metadata": {},
   "outputs": [],
   "source": [
    "df = pd.read_parquet('clean_data.parquet')"
   ]
  },
  {
   "cell_type": "code",
   "execution_count": 30,
   "id": "3b166c0f-5ff5-41d2-ad6f-54335c5a7527",
   "metadata": {},
   "outputs": [],
   "source": [
    "test_data = pd.merge(\n",
    "    test_data,\n",
    "    df[['longitude', 'latitude', 'neighborhood']],\n",
    "    how='inner',\n",
    "    left_on=['longitude', 'latitude'],\n",
    "    right_on=['longitude', 'latitude']\n",
    ")"
   ]
  },
  {
   "cell_type": "code",
   "execution_count": 31,
   "id": "d970ef43-b04a-4873-b7e6-7862d4545c73",
   "metadata": {},
   "outputs": [],
   "source": [
    "test_data.to_parquet('test_pred.parquet')"
   ]
  },
  {
   "cell_type": "code",
   "execution_count": 32,
   "id": "f4e1676a-f9fb-4f60-ad47-de5b84fcdeb5",
   "metadata": {},
   "outputs": [],
   "source": [
    "X_train.to_parquet('X_train_new_feat.parquet')\n",
    "X_test.to_parquet('X_test_new_feat.parquet')"
   ]
  },
  {
   "cell_type": "code",
   "execution_count": null,
   "id": "7de91458-12f0-4e95-b934-0d55641cbc45",
   "metadata": {},
   "outputs": [],
   "source": []
  },
  {
   "cell_type": "code",
   "execution_count": null,
   "id": "382d1469-7b61-4839-84ef-eb8924a292b6",
   "metadata": {},
   "outputs": [],
   "source": []
  }
 ],
 "metadata": {
  "kernelspec": {
   "display_name": "Python 3 (ipykernel)",
   "language": "python",
   "name": "python3"
  },
  "language_info": {
   "codemirror_mode": {
    "name": "ipython",
    "version": 3
   },
   "file_extension": ".py",
   "mimetype": "text/x-python",
   "name": "python",
   "nbconvert_exporter": "python",
   "pygments_lexer": "ipython3",
   "version": "3.8.10"
  }
 },
 "nbformat": 4,
 "nbformat_minor": 5
}
