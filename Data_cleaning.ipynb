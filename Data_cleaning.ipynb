{
 "cells": [
  {
   "cell_type": "code",
   "execution_count": 1,
   "id": "8a42389b-3d84-4a17-a5f5-b64fbaba34d5",
   "metadata": {},
   "outputs": [],
   "source": [
    "import pandas as pd"
   ]
  },
  {
   "cell_type": "code",
   "execution_count": 2,
   "id": "e81f43c6-2aa4-4590-93d0-4335053aaa86",
   "metadata": {},
   "outputs": [],
   "source": [
    "df = pd.read_csv('ames_transactions.csv')"
   ]
  },
  {
   "cell_type": "markdown",
   "id": "cd3c7e96-f299-4bfc-8a1e-c7595522916a",
   "metadata": {},
   "source": [
    "## Categorical Features"
   ]
  },
  {
   "cell_type": "code",
   "execution_count": 3,
   "id": "083ad19b-00a0-44b3-b60b-6a6805ea1cef",
   "metadata": {},
   "outputs": [
    {
     "name": "stdout",
     "output_type": "stream",
     "text": [
      "There are 47 categorical features:\n",
      " ['property_id', 'dwelling_subclass', 'zoning_type', 'street_type', 'alley_type', 'lot_shape', 'land_contour', 'utilities', 'lot_configuration', 'land_slope', 'neighborhood', 'condition_1', 'condition_2', 'dwelling_type', 'dwelling_style', 'overall_quality_rating', 'overall_condition_rating', 'roof_style', 'roof_material', 'exterior_type_1', 'exterior_type_2', 'masonry_veneer_type', 'exterior_quality_rating', 'exterior_condition_rating', 'foundation_type', 'bsmt_quality_rating', 'bsmt_condition_rating', 'bsmt_exposure_rating', 'bsmt_fin_type_1_rating', 'bsmt_fin_type_2_rating', 'heating_type', 'heating_quality_rating', 'has_central_air', 'electrical_system_type', 'kitchen_quality_rating', 'functionality_type', 'fireplace_quality_rating', 'garage_type', 'garage_finish_rating', 'garage_quality_rating', 'garage_condition_rating', 'paved_drive_type', 'pool_quality_rating', 'fence_quality_rating', 'misc_feature', 'sale_type', 'sale_condition']\n"
     ]
    }
   ],
   "source": [
    "catFeat = list(df.select_dtypes(include='object').columns)\n",
    "print(f\"There are {len(catFeat)} categorical features:\\n\", catFeat)"
   ]
  },
  {
   "cell_type": "code",
   "execution_count": 4,
   "id": "9fcc1b60-f1c2-4698-905d-1b4aaacf6540",
   "metadata": {},
   "outputs": [
    {
     "data": {
      "text/plain": [
       "property_id                     0\n",
       "dwelling_subclass               0\n",
       "zoning_type                     0\n",
       "street_type                     0\n",
       "alley_type                      0\n",
       "lot_shape                       0\n",
       "land_contour                    0\n",
       "utilities                       0\n",
       "lot_configuration               0\n",
       "land_slope                      0\n",
       "neighborhood                    0\n",
       "condition_1                     0\n",
       "condition_2                     0\n",
       "dwelling_type                   0\n",
       "dwelling_style                  0\n",
       "overall_quality_rating          0\n",
       "overall_condition_rating        0\n",
       "roof_style                      0\n",
       "roof_material                   0\n",
       "exterior_type_1                 0\n",
       "exterior_type_2                 0\n",
       "masonry_veneer_type          1775\n",
       "exterior_quality_rating         0\n",
       "exterior_condition_rating       0\n",
       "foundation_type                 0\n",
       "bsmt_quality_rating             0\n",
       "bsmt_condition_rating           0\n",
       "bsmt_exposure_rating            0\n",
       "bsmt_fin_type_1_rating          0\n",
       "bsmt_fin_type_2_rating          0\n",
       "heating_type                    0\n",
       "heating_quality_rating          0\n",
       "has_central_air                 0\n",
       "electrical_system_type          0\n",
       "kitchen_quality_rating          0\n",
       "functionality_type              0\n",
       "fireplace_quality_rating        0\n",
       "garage_type                     0\n",
       "garage_finish_rating            0\n",
       "garage_quality_rating           0\n",
       "garage_condition_rating         0\n",
       "paved_drive_type                0\n",
       "pool_quality_rating             0\n",
       "fence_quality_rating            0\n",
       "misc_feature                 2824\n",
       "sale_type                       0\n",
       "sale_condition                  0\n",
       "dtype: int64"
      ]
     },
     "execution_count": 4,
     "metadata": {},
     "output_type": "execute_result"
    }
   ],
   "source": [
    "df[catFeat].isna().sum()"
   ]
  },
  {
   "cell_type": "code",
   "execution_count": 5,
   "id": "851a3edd-5d17-42eb-965a-0be0cfe376be",
   "metadata": {},
   "outputs": [
    {
     "data": {
      "text/plain": [
       "Regular                 1859\n",
       "Slightly_Irregular       979\n",
       "Moderately_Irregular      76\n",
       "Irregular                 16\n",
       "Name: lot_shape, dtype: int64"
      ]
     },
     "execution_count": 5,
     "metadata": {},
     "output_type": "execute_result"
    }
   ],
   "source": [
    "df['lot_shape'].value_counts()"
   ]
  },
  {
   "cell_type": "code",
   "execution_count": 6,
   "id": "e40e1bd1-5c31-41ae-800d-76d48c8c4705",
   "metadata": {},
   "outputs": [],
   "source": [
    "# Lot Shape (Ordinal): General shape of property\n",
    "df['lot_shape'] = df['lot_shape'].replace({\n",
    "    'Irregular' : 0,\n",
    "    'Moderately_Irregular' : 1,\n",
    "    'Slightly_Irregular' : 2,\n",
    "    'Regular' : 3\n",
    "})"
   ]
  },
  {
   "cell_type": "code",
   "execution_count": 7,
   "id": "217f9bc9-507d-43ec-ac76-e0ad296c8ea3",
   "metadata": {},
   "outputs": [
    {
     "data": {
      "text/plain": [
       "Gtl    2789\n",
       "Mod     125\n",
       "Sev      16\n",
       "Name: land_slope, dtype: int64"
      ]
     },
     "execution_count": 7,
     "metadata": {},
     "output_type": "execute_result"
    }
   ],
   "source": [
    "df['land_slope'].value_counts()"
   ]
  },
  {
   "cell_type": "code",
   "execution_count": 8,
   "id": "d18e911d-51bc-40db-99d9-fa0cab95b262",
   "metadata": {},
   "outputs": [],
   "source": [
    "# Land Slope (Ordinal): Slope of property\n",
    "df['land_slope'] = df['land_slope'].replace({\n",
    "    'Sev' : 0,\n",
    "    'Mod' : 1,\n",
    "    'Gtl' : 2,\n",
    "})"
   ]
  },
  {
   "cell_type": "code",
   "execution_count": 9,
   "id": "07c3c14c-ef40-4dd8-ac11-37d0f7ffa4e6",
   "metadata": {},
   "outputs": [
    {
     "data": {
      "text/plain": [
       "Average           825\n",
       "Above_Average     732\n",
       "Good              602\n",
       "Very_Good         350\n",
       "Below_Average     226\n",
       "Excellent         107\n",
       "Fair               40\n",
       "Very_Excellent     31\n",
       "Poor               13\n",
       "Very_Poor           4\n",
       "Name: overall_quality_rating, dtype: int64"
      ]
     },
     "execution_count": 9,
     "metadata": {},
     "output_type": "execute_result"
    }
   ],
   "source": [
    "df['overall_quality_rating'].value_counts()"
   ]
  },
  {
   "cell_type": "code",
   "execution_count": 10,
   "id": "9b5c2b48-065b-4eff-a4db-6557899117a2",
   "metadata": {},
   "outputs": [],
   "source": [
    "# from sklearn.preprocessing import LabelEncoder\n",
    "# # Apply Label Encoder\n",
    "# label_encoder = LabelEncoder()\n",
    "# label_encoder.fit(df['overall_quality_rating'])\n",
    "\n",
    "# label_encoder.classes_\n",
    "\n",
    "# label_encoder.transform(['Above_Average', 'Average', 'Below_Average', 'Excellent', 'Fair',\n",
    "#        'Good', 'Poor', 'Very_Excellent', 'Very_Good', 'Very_Poor'])\n",
    "\n",
    "# >> array([0, 1, 2, 3, 4, 5, 6, 7, 8, 9])"
   ]
  },
  {
   "cell_type": "code",
   "execution_count": 11,
   "id": "de3b3d2b-da2d-4c55-90f4-7593178c57d3",
   "metadata": {},
   "outputs": [],
   "source": [
    "# Overall Qual (Ordinal): Rates the overall material and finish of the house\n",
    "df['overall_quality_rating'] = df['overall_quality_rating'].replace({\n",
    "    'Very_Poor' : 0,\n",
    "    'Poor' : 1,\n",
    "    'Fair' : 2,\n",
    "    'Below_Average' : 3,\n",
    "    'Average' : 4,\n",
    "    'Above_Average' : 5,\n",
    "    'Good' : 6,\n",
    "    'Very_Good' : 7,\n",
    "    'Excellent' : 8,\n",
    "    'Very_Excellent' : 9,\n",
    "    \n",
    "})"
   ]
  },
  {
   "cell_type": "code",
   "execution_count": 12,
   "id": "6f068f5d-433d-48e2-8178-1f68d48cc394",
   "metadata": {},
   "outputs": [
    {
     "data": {
      "text/plain": [
       "Average          1654\n",
       "Above_Average     533\n",
       "Good              390\n",
       "Very_Good         144\n",
       "Below_Average     101\n",
       "Fair               50\n",
       "Excellent          41\n",
       "Poor               10\n",
       "Very_Poor           7\n",
       "Name: overall_condition_rating, dtype: int64"
      ]
     },
     "execution_count": 12,
     "metadata": {},
     "output_type": "execute_result"
    }
   ],
   "source": [
    "df['overall_condition_rating'].value_counts()"
   ]
  },
  {
   "cell_type": "code",
   "execution_count": 13,
   "id": "9f795006-73f6-46c8-a36f-95ff90b4f4c3",
   "metadata": {},
   "outputs": [],
   "source": [
    "# Overall Cond (Ordinal): Rates the overall condition of the house\n",
    "df['overall_condition_rating'] = df['overall_condition_rating'].replace({\n",
    "    'Very_Poor' : 0,\n",
    "    'Poor' : 1,\n",
    "    'Fair' : 2,\n",
    "    'Below_Average' : 3,\n",
    "    'Average' : 4,\n",
    "    'Above_Average' : 5,\n",
    "    'Good' : 6,\n",
    "    'Very_Good' : 7,\n",
    "    'Excellent' : 8,\n",
    "    'Very_Excellent' : 9,\n",
    "    \n",
    "})"
   ]
  },
  {
   "cell_type": "code",
   "execution_count": 14,
   "id": "50bec6fc-ba86-4b9d-82df-2bd5697baad0",
   "metadata": {},
   "outputs": [
    {
     "data": {
      "text/plain": [
       "BrkFace    880\n",
       "Stone      249\n",
       "BrkCmn      25\n",
       "CBlock       1\n",
       "Name: masonry_veneer_type, dtype: int64"
      ]
     },
     "execution_count": 14,
     "metadata": {},
     "output_type": "execute_result"
    }
   ],
   "source": [
    "df['masonry_veneer_type'].value_counts()"
   ]
  },
  {
   "cell_type": "code",
   "execution_count": 15,
   "id": "00a1fec2-9f2b-49d6-a6f8-fbfabed17e65",
   "metadata": {},
   "outputs": [
    {
     "data": {
      "text/plain": [
       "0.60580204778157"
      ]
     },
     "execution_count": 15,
     "metadata": {},
     "output_type": "execute_result"
    }
   ],
   "source": [
    "df['masonry_veneer_type'].isna().sum() / len(df)"
   ]
  },
  {
   "cell_type": "code",
   "execution_count": 16,
   "id": "f8517b1a-3dfd-4419-9c2b-5f129c0cff87",
   "metadata": {},
   "outputs": [],
   "source": [
    "# Imputing NA with None\n",
    "df['masonry_veneer_type'].fillna('None', inplace=True)"
   ]
  },
  {
   "cell_type": "code",
   "execution_count": 17,
   "id": "0664c102-57bd-47c0-b493-ff4cc074d46d",
   "metadata": {},
   "outputs": [
    {
     "data": {
      "text/plain": [
       "None       1775\n",
       "BrkFace     880\n",
       "Stone       249\n",
       "BrkCmn       25\n",
       "CBlock        1\n",
       "Name: masonry_veneer_type, dtype: int64"
      ]
     },
     "execution_count": 17,
     "metadata": {},
     "output_type": "execute_result"
    }
   ],
   "source": [
    "df['masonry_veneer_type'].value_counts()"
   ]
  },
  {
   "cell_type": "code",
   "execution_count": 18,
   "id": "5a64e9eb-e7b8-4db3-b15d-dab62fec90c5",
   "metadata": {},
   "outputs": [
    {
     "data": {
      "text/plain": [
       "Typical      1799\n",
       "Good          989\n",
       "Excellent     107\n",
       "Fair           35\n",
       "Name: exterior_quality_rating, dtype: int64"
      ]
     },
     "execution_count": 18,
     "metadata": {},
     "output_type": "execute_result"
    }
   ],
   "source": [
    "df['exterior_quality_rating'].value_counts()"
   ]
  },
  {
   "cell_type": "code",
   "execution_count": 19,
   "id": "8d8ef092-e73c-4c23-ac92-2ba4f3deabc5",
   "metadata": {},
   "outputs": [],
   "source": [
    "# Exter Qual (Ordinal): Evaluates the quality of the material on the exterior\n",
    "df['exterior_quality_rating'] = df['exterior_quality_rating'].replace({\n",
    "    'Poor' : 0,\n",
    "    'Fair' : 1,\n",
    "    'Typical' : 2,\n",
    "    'Good' : 3,\n",
    "    'Excellent' : 4,\n",
    "    \n",
    "})"
   ]
  },
  {
   "cell_type": "code",
   "execution_count": 20,
   "id": "309870fa-1ec3-46ca-9153-5cf59880d208",
   "metadata": {},
   "outputs": [
    {
     "data": {
      "text/plain": [
       "Typical      2549\n",
       "Good          299\n",
       "Fair           67\n",
       "Excellent      12\n",
       "Poor            3\n",
       "Name: exterior_condition_rating, dtype: int64"
      ]
     },
     "execution_count": 20,
     "metadata": {},
     "output_type": "execute_result"
    }
   ],
   "source": [
    "df['exterior_condition_rating'].value_counts()"
   ]
  },
  {
   "cell_type": "code",
   "execution_count": 21,
   "id": "0adfb280-da52-4fbc-aa66-471464a9b53a",
   "metadata": {},
   "outputs": [],
   "source": [
    "# Exter Cond (Ordinal): Evaluates the present condition of the material on the exterior\n",
    "df['exterior_condition_rating'] = df['exterior_condition_rating'].replace({\n",
    "    'Poor' : 0,\n",
    "    'Fair' : 1,\n",
    "    'Typical' : 2,\n",
    "    'Good' : 3,\n",
    "    'Excellent' : 4,\n",
    "    \n",
    "})"
   ]
  },
  {
   "cell_type": "code",
   "execution_count": 22,
   "id": "b58ef26e-1c82-46a7-9555-e81bc6b7916d",
   "metadata": {},
   "outputs": [
    {
     "data": {
      "text/plain": [
       "Typical        1283\n",
       "Good           1219\n",
       "Excellent       258\n",
       "Fair             88\n",
       "No_Basement      80\n",
       "Poor              2\n",
       "Name: bsmt_quality_rating, dtype: int64"
      ]
     },
     "execution_count": 22,
     "metadata": {},
     "output_type": "execute_result"
    }
   ],
   "source": [
    "df['bsmt_quality_rating'].value_counts()"
   ]
  },
  {
   "cell_type": "code",
   "execution_count": 23,
   "id": "ca829501-e41d-4e33-b9c2-6798a15061ea",
   "metadata": {},
   "outputs": [],
   "source": [
    "# Bsmt Qual (Ordinal): Evaluates the height of the basement\n",
    "df['bsmt_quality_rating'] = df['bsmt_quality_rating'].replace({\n",
    "    'No_Basement' : 0,\n",
    "    'Poor' : 1,\n",
    "    'Fair' : 2,\n",
    "    'Typical' : 3,\n",
    "    'Good' : 4,\n",
    "    'Excellent' : 5,\n",
    "    \n",
    "})"
   ]
  },
  {
   "cell_type": "code",
   "execution_count": 24,
   "id": "35151737-afc1-436b-b949-59eed4f20c14",
   "metadata": {},
   "outputs": [
    {
     "data": {
      "text/plain": [
       "Typical        2616\n",
       "Good            122\n",
       "Fair            104\n",
       "No_Basement      80\n",
       "Poor              5\n",
       "Excellent         3\n",
       "Name: bsmt_condition_rating, dtype: int64"
      ]
     },
     "execution_count": 24,
     "metadata": {},
     "output_type": "execute_result"
    }
   ],
   "source": [
    "df['bsmt_condition_rating'].value_counts()"
   ]
  },
  {
   "cell_type": "code",
   "execution_count": 25,
   "id": "cc1029c6-cf16-4771-8f0e-e5a775e75e61",
   "metadata": {},
   "outputs": [],
   "source": [
    "# Bsmt Cond (Ordinal): Evaluates the general condition of the basement\n",
    "df['bsmt_condition_rating'] = df['bsmt_condition_rating'].replace({\n",
    "    'No_Basement' : 0,\n",
    "    'Poor' : 1,\n",
    "    'Fair' : 2,\n",
    "    'Typical' : 3,\n",
    "    'Good' : 4,\n",
    "    'Excellent' : 5,\n",
    "    \n",
    "})"
   ]
  },
  {
   "cell_type": "code",
   "execution_count": 26,
   "id": "db3d6ec6-bc72-4937-aab3-be11a2e31ae7",
   "metadata": {},
   "outputs": [
    {
     "data": {
      "text/plain": [
       "No             1906\n",
       "Av              418\n",
       "Gd              284\n",
       "Mn              239\n",
       "No_Basement      83\n",
       "Name: bsmt_exposure_rating, dtype: int64"
      ]
     },
     "execution_count": 26,
     "metadata": {},
     "output_type": "execute_result"
    }
   ],
   "source": [
    "df['bsmt_exposure_rating'].value_counts()"
   ]
  },
  {
   "cell_type": "code",
   "execution_count": 27,
   "id": "29d2d112-bb50-4ba7-a418-4c4e4e581b5b",
   "metadata": {},
   "outputs": [],
   "source": [
    "# Bsmt Exposure\t(Ordinal): Refers to walkout or garden level walls\n",
    "df['bsmt_exposure_rating'] = df['bsmt_exposure_rating'].replace({\n",
    "    'No_Basement' : 0,\n",
    "    'No' : 1,\n",
    "    'Mn' : 2,\n",
    "    'Av' : 3,\n",
    "    'Gd' : 4,\n",
    "    \n",
    "})"
   ]
  },
  {
   "cell_type": "code",
   "execution_count": 28,
   "id": "ccca535c-730c-4b1e-ae28-ab4e273f7174",
   "metadata": {},
   "outputs": [
    {
     "data": {
      "text/plain": [
       "GLQ            859\n",
       "Unf            851\n",
       "ALQ            429\n",
       "Rec            288\n",
       "BLQ            269\n",
       "LwQ            154\n",
       "No_Basement     80\n",
       "Name: bsmt_fin_type_1_rating, dtype: int64"
      ]
     },
     "execution_count": 28,
     "metadata": {},
     "output_type": "execute_result"
    }
   ],
   "source": [
    "df['bsmt_fin_type_1_rating'].value_counts()"
   ]
  },
  {
   "cell_type": "code",
   "execution_count": 29,
   "id": "01e4a397-5ff8-45b9-b872-afdd7c9f3318",
   "metadata": {},
   "outputs": [],
   "source": [
    "# BsmtFin Type 1\t(Ordinal): Rating of basement finished area\n",
    "df['bsmt_fin_type_1_rating'] = df['bsmt_fin_type_1_rating'].replace({\n",
    "    'No_Basement' : 0,\n",
    "    'Unf' : 1,\n",
    "    'LwQ' : 2,\n",
    "    'Rec' : 3,\n",
    "    'BLQ' : 4,\n",
    "    'ALQ' : 5,\n",
    "    'GLQ' : 6,\n",
    "    \n",
    "})"
   ]
  },
  {
   "cell_type": "code",
   "execution_count": 30,
   "id": "23e538dd-19ff-4d9e-a07e-05bd3126d68e",
   "metadata": {},
   "outputs": [
    {
     "data": {
      "text/plain": [
       "Unf            2499\n",
       "Rec             106\n",
       "LwQ              89\n",
       "No_Basement      81\n",
       "BLQ              68\n",
       "ALQ              53\n",
       "GLQ              34\n",
       "Name: bsmt_fin_type_2_rating, dtype: int64"
      ]
     },
     "execution_count": 30,
     "metadata": {},
     "output_type": "execute_result"
    }
   ],
   "source": [
    "df['bsmt_fin_type_2_rating'].value_counts()"
   ]
  },
  {
   "cell_type": "code",
   "execution_count": 31,
   "id": "48a2efcf-da10-4be9-8011-66c8e45789e5",
   "metadata": {},
   "outputs": [],
   "source": [
    "# BsmtFinType 2\t(Ordinal): Rating of basement finished area (if multiple types)\n",
    "df['bsmt_fin_type_2_rating'] = df['bsmt_fin_type_2_rating'].replace({\n",
    "    'No_Basement' : 0,\n",
    "    'Unf' : 1,\n",
    "    'LwQ' : 2,\n",
    "    'Rec' : 3,\n",
    "    'BLQ' : 4,\n",
    "    'ALQ' : 5,\n",
    "    'GLQ' : 6,\n",
    "    \n",
    "})"
   ]
  },
  {
   "cell_type": "code",
   "execution_count": 32,
   "id": "e47f5a1b-954f-4ca2-9c44-498b7997146e",
   "metadata": {},
   "outputs": [
    {
     "data": {
      "text/plain": [
       "Excellent    1495\n",
       "Typical       864\n",
       "Good          476\n",
       "Fair           92\n",
       "Poor            3\n",
       "Name: heating_quality_rating, dtype: int64"
      ]
     },
     "execution_count": 32,
     "metadata": {},
     "output_type": "execute_result"
    }
   ],
   "source": [
    "df['heating_quality_rating'].value_counts()"
   ]
  },
  {
   "cell_type": "code",
   "execution_count": 33,
   "id": "2e9d8eab-8456-4d00-bc04-86e8adaa0888",
   "metadata": {},
   "outputs": [],
   "source": [
    "# HeatingQC (Ordinal): Heating quality and condition\n",
    "df['heating_quality_rating'] = df['heating_quality_rating'].replace({\n",
    "    'Poor' : 0,\n",
    "    'Fair' : 1,\n",
    "    'Typical' : 2,\n",
    "    'Good' : 3,\n",
    "    'Excellent' : 4,\n",
    "    \n",
    "})"
   ]
  },
  {
   "cell_type": "code",
   "execution_count": 34,
   "id": "a9d1cf71-f9bf-406b-90e2-3471ebc7751a",
   "metadata": {},
   "outputs": [
    {
     "data": {
      "text/plain": [
       "SBrkr      2682\n",
       "FuseA       188\n",
       "FuseF        50\n",
       "FuseP         8\n",
       "Unknown       1\n",
       "Mix           1\n",
       "Name: electrical_system_type, dtype: int64"
      ]
     },
     "execution_count": 34,
     "metadata": {},
     "output_type": "execute_result"
    }
   ],
   "source": [
    "df['electrical_system_type'].value_counts()"
   ]
  },
  {
   "cell_type": "code",
   "execution_count": 35,
   "id": "17d2d612-a3aa-457b-b22d-e32e75c8a786",
   "metadata": {},
   "outputs": [],
   "source": [
    "# Electrical (Ordinal): Electrical system\n",
    "df['electrical_system_type'] = df['electrical_system_type'].replace({\n",
    "    'Unknown' : 0,\n",
    "    'Mix' : 1,\n",
    "    'FuseP' : 2,\n",
    "    'FuseF' : 3,\n",
    "    'FuseA' : 4,\n",
    "    'SBrkr' : 5,\n",
    "    \n",
    "})"
   ]
  },
  {
   "cell_type": "code",
   "execution_count": 36,
   "id": "e8dc2ee1-fa28-422e-9f2f-0c2d8fdac325",
   "metadata": {},
   "outputs": [
    {
     "data": {
      "text/plain": [
       "Typical      1494\n",
       "Good         1160\n",
       "Excellent     205\n",
       "Fair           70\n",
       "Poor            1\n",
       "Name: kitchen_quality_rating, dtype: int64"
      ]
     },
     "execution_count": 36,
     "metadata": {},
     "output_type": "execute_result"
    }
   ],
   "source": [
    "df['kitchen_quality_rating'].value_counts()"
   ]
  },
  {
   "cell_type": "code",
   "execution_count": 37,
   "id": "ace78108-2092-4955-b493-245e23efd6b0",
   "metadata": {},
   "outputs": [],
   "source": [
    "# KitchenQual (Ordinal): Kitchen quality\n",
    "df['kitchen_quality_rating'] = df['kitchen_quality_rating'].replace({\n",
    "    'Poor' : 0,\n",
    "    'Fair' : 1,\n",
    "    'Typical' : 2,\n",
    "    'Good' : 3,\n",
    "    'Excellent' : 4,\n",
    "})"
   ]
  },
  {
   "cell_type": "code",
   "execution_count": 38,
   "id": "ba9e8fe5-40be-41f8-93cf-6db67fdab53f",
   "metadata": {},
   "outputs": [
    {
     "data": {
      "text/plain": [
       "Typ     2728\n",
       "Min2      70\n",
       "Min1      65\n",
       "Mod       35\n",
       "Maj1      19\n",
       "Maj2       9\n",
       "Sev        2\n",
       "Sal        2\n",
       "Name: functionality_type, dtype: int64"
      ]
     },
     "execution_count": 38,
     "metadata": {},
     "output_type": "execute_result"
    }
   ],
   "source": [
    "df['functionality_type'].value_counts()"
   ]
  },
  {
   "cell_type": "code",
   "execution_count": 39,
   "id": "ac8e1bb0-bd49-4c87-9c99-34c4046484b0",
   "metadata": {},
   "outputs": [],
   "source": [
    "# Functional (Ordinal): Home functionality (Assume typical unless deductions are warranted)\n",
    "df['functionality_type'] = df['functionality_type'].replace({\n",
    "    'Sal' : 0,\n",
    "    'Sev' : 1,\n",
    "    'Maj2' : 2,\n",
    "    'Maj1' : 3,\n",
    "    'Mod' : 4,\n",
    "    'Min2' : 5,\n",
    "    'Min1' : 6,\n",
    "    'Typ' : 7,\n",
    "})"
   ]
  },
  {
   "cell_type": "code",
   "execution_count": 40,
   "id": "087b1048-90e6-4b4f-8c13-c4ec3e84eeff",
   "metadata": {},
   "outputs": [
    {
     "data": {
      "text/plain": [
       "No_Fireplace    1422\n",
       "Good             744\n",
       "Typical          600\n",
       "Fair              75\n",
       "Poor              46\n",
       "Excellent         43\n",
       "Name: fireplace_quality_rating, dtype: int64"
      ]
     },
     "execution_count": 40,
     "metadata": {},
     "output_type": "execute_result"
    }
   ],
   "source": [
    "df['fireplace_quality_rating'].value_counts()"
   ]
  },
  {
   "cell_type": "code",
   "execution_count": 41,
   "id": "d374049c-d390-4780-83dc-8e90c4d661fb",
   "metadata": {},
   "outputs": [],
   "source": [
    "# FireplaceQu (Ordinal): Fireplace quality\n",
    "df['fireplace_quality_rating'] = df['fireplace_quality_rating'].replace({\n",
    "    'No_Fireplace' : 0,\n",
    "    'Poor' : 1,\n",
    "    'Fair' : 2,\n",
    "    'Typical' : 3,\n",
    "    'Good' : 4,\n",
    "    'Excellent' : 5,\n",
    "})"
   ]
  },
  {
   "cell_type": "code",
   "execution_count": 42,
   "id": "262c7b82-e4b1-4d7d-a270-963d7fe6ffd2",
   "metadata": {},
   "outputs": [
    {
     "data": {
      "text/plain": [
       "Unf          1231\n",
       "RFn           812\n",
       "Fin           728\n",
       "No_Garage     159\n",
       "Name: garage_finish_rating, dtype: int64"
      ]
     },
     "execution_count": 42,
     "metadata": {},
     "output_type": "execute_result"
    }
   ],
   "source": [
    "df['garage_finish_rating'].value_counts()"
   ]
  },
  {
   "cell_type": "code",
   "execution_count": 43,
   "id": "817ecdef-7580-4c85-adfd-418418c1f167",
   "metadata": {},
   "outputs": [],
   "source": [
    "# Garage Finish (Ordinal)\t: Interior finish of the garage\n",
    "df['garage_finish_rating'] = df['garage_finish_rating'].replace({\n",
    "    'No_Garage' : 0,\n",
    "    'Unf' : 1,\n",
    "    'RFn' : 2,\n",
    "    'Fin' : 3,\n",
    "})"
   ]
  },
  {
   "cell_type": "code",
   "execution_count": 44,
   "id": "ce408340-9ce1-4da0-94c7-c75534e8a4af",
   "metadata": {},
   "outputs": [
    {
     "data": {
      "text/plain": [
       "Typical      2615\n",
       "No_Garage     159\n",
       "Fair          124\n",
       "Good           24\n",
       "Poor            5\n",
       "Excellent       3\n",
       "Name: garage_quality_rating, dtype: int64"
      ]
     },
     "execution_count": 44,
     "metadata": {},
     "output_type": "execute_result"
    }
   ],
   "source": [
    "df['garage_quality_rating'].value_counts()"
   ]
  },
  {
   "cell_type": "code",
   "execution_count": 45,
   "id": "d0c8f393-1261-4f0d-bd0a-b64d6a4195ae",
   "metadata": {},
   "outputs": [],
   "source": [
    "# Garage Qual (Ordinal): Garage quality\n",
    "df['garage_quality_rating'] = df['garage_quality_rating'].replace({\n",
    "    'No_Garage' : 0,\n",
    "    'Poor' : 1,\n",
    "    'Fair' : 2,\n",
    "    'Typical' : 3,\n",
    "    'Good' : 4,\n",
    "    'Excellent' : 5,\n",
    "})"
   ]
  },
  {
   "cell_type": "code",
   "execution_count": 46,
   "id": "60d12120-c12e-4147-a628-e1cfc19e3e05",
   "metadata": {},
   "outputs": [
    {
     "data": {
      "text/plain": [
       "Typical      2665\n",
       "No_Garage     159\n",
       "Fair           74\n",
       "Good           15\n",
       "Poor           14\n",
       "Excellent       3\n",
       "Name: garage_condition_rating, dtype: int64"
      ]
     },
     "execution_count": 46,
     "metadata": {},
     "output_type": "execute_result"
    }
   ],
   "source": [
    "df['garage_condition_rating'].value_counts()"
   ]
  },
  {
   "cell_type": "code",
   "execution_count": 47,
   "id": "feebcbbd-f1c3-4b15-a03b-f57c9f6daf7f",
   "metadata": {},
   "outputs": [],
   "source": [
    "# Garage Cond (Ordinal): Garage condition\n",
    "df['garage_condition_rating'] = df['garage_condition_rating'].replace({\n",
    "    'No_Garage' : 0,\n",
    "    'Poor' : 1,\n",
    "    'Fair' : 2,\n",
    "    'Typical' : 3,\n",
    "    'Good' : 4,\n",
    "    'Excellent' : 5,\n",
    "})"
   ]
  },
  {
   "cell_type": "code",
   "execution_count": 48,
   "id": "522a8107-3297-4e3f-be2c-2d5ad9996ab9",
   "metadata": {},
   "outputs": [
    {
     "data": {
      "text/plain": [
       "Paved               2652\n",
       "Dirt_Gravel          216\n",
       "Partial_Pavement      62\n",
       "Name: paved_drive_type, dtype: int64"
      ]
     },
     "execution_count": 48,
     "metadata": {},
     "output_type": "execute_result"
    }
   ],
   "source": [
    "df['paved_drive_type'].value_counts()"
   ]
  },
  {
   "cell_type": "code",
   "execution_count": 49,
   "id": "37486f5e-8995-41c4-b241-c245f6ed5e03",
   "metadata": {},
   "outputs": [],
   "source": [
    "# Paved Drive (Ordinal): Paved driveway\n",
    "df['paved_drive_type'] = df['paved_drive_type'].replace({\n",
    "    'Dirt_Gravel' : 0,\n",
    "    'Partial_Pavement' : 1,\n",
    "    'Paved' : 2,\n",
    "})"
   ]
  },
  {
   "cell_type": "code",
   "execution_count": 50,
   "id": "eed971ee-c6e6-41b9-8689-f40e2d260f89",
   "metadata": {},
   "outputs": [
    {
     "data": {
      "text/plain": [
       "No_Pool      2917\n",
       "Excellent       4\n",
       "Good            4\n",
       "Typical         3\n",
       "Fair            2\n",
       "Name: pool_quality_rating, dtype: int64"
      ]
     },
     "execution_count": 50,
     "metadata": {},
     "output_type": "execute_result"
    }
   ],
   "source": [
    "df['pool_quality_rating'].value_counts()"
   ]
  },
  {
   "cell_type": "code",
   "execution_count": 51,
   "id": "a0afd3e9-18c9-45f1-9241-7496a4e79094",
   "metadata": {},
   "outputs": [],
   "source": [
    "# Pool QC (Ordinal): Pool quality\n",
    "df['pool_quality_rating'] = df['pool_quality_rating'].replace({\n",
    "    'No_Pool' : 0,\n",
    "    'Poor' : 1,\n",
    "    'Fair' : 2,\n",
    "    'Typical' : 3,\n",
    "    'Good' : 4,\n",
    "    'Excellent' : 5,\n",
    "})"
   ]
  },
  {
   "cell_type": "code",
   "execution_count": 52,
   "id": "8f6e253f-eff2-4805-b6f8-7f2771027ce6",
   "metadata": {},
   "outputs": [
    {
     "data": {
      "text/plain": [
       "No_Fence             2358\n",
       "Minimum_Privacy       330\n",
       "Good_Privacy          118\n",
       "Good_Wood             112\n",
       "Minimum_Wood_Wire      12\n",
       "Name: fence_quality_rating, dtype: int64"
      ]
     },
     "execution_count": 52,
     "metadata": {},
     "output_type": "execute_result"
    }
   ],
   "source": [
    "df['fence_quality_rating'].value_counts()"
   ]
  },
  {
   "cell_type": "code",
   "execution_count": 53,
   "id": "989a229b-8fdf-4ee7-b913-b69fcaa73086",
   "metadata": {},
   "outputs": [],
   "source": [
    "# Fence (Ordinal): Fence quality\n",
    "df['fence_quality_rating'] = df['fence_quality_rating'].replace({\n",
    "    'No_Fence' : 0,\n",
    "    'Minimum_Wood_Wire' : 1,\n",
    "    'Good_Wood' : 2,\n",
    "    'Minimum_Privacy' : 3,\n",
    "    'Good_Privacy' : 4,\n",
    "})"
   ]
  },
  {
   "cell_type": "code",
   "execution_count": 54,
   "id": "00ef760f-0037-4060-8790-378354703b81",
   "metadata": {},
   "outputs": [
    {
     "data": {
      "text/plain": [
       "Shed    95\n",
       "Gar2     5\n",
       "Othr     4\n",
       "Elev     1\n",
       "TenC     1\n",
       "Name: misc_feature, dtype: int64"
      ]
     },
     "execution_count": 54,
     "metadata": {},
     "output_type": "execute_result"
    }
   ],
   "source": [
    "df['misc_feature'].value_counts()"
   ]
  },
  {
   "cell_type": "code",
   "execution_count": 55,
   "id": "d92cec35-0ba1-4283-8217-a67d443325c9",
   "metadata": {},
   "outputs": [],
   "source": [
    "df['misc_feature'].fillna('None', inplace=True)"
   ]
  },
  {
   "cell_type": "code",
   "execution_count": 56,
   "id": "fcacf1cb-9e94-43fe-bdb5-aa1a57281ea2",
   "metadata": {},
   "outputs": [
    {
     "data": {
      "text/plain": [
       "None    2824\n",
       "Shed      95\n",
       "Gar2       5\n",
       "Othr       4\n",
       "Elev       1\n",
       "TenC       1\n",
       "Name: misc_feature, dtype: int64"
      ]
     },
     "execution_count": 56,
     "metadata": {},
     "output_type": "execute_result"
    }
   ],
   "source": [
    "df['misc_feature'].value_counts()"
   ]
  },
  {
   "cell_type": "code",
   "execution_count": 57,
   "id": "2a382b8b-4d7f-4206-a50a-05318793cdb7",
   "metadata": {},
   "outputs": [
    {
     "data": {
      "text/plain": [
       "property_id                  object\n",
       "dwelling_subclass            object\n",
       "zoning_type                  object\n",
       "street_type                  object\n",
       "alley_type                   object\n",
       "lot_shape                     int64\n",
       "land_contour                 object\n",
       "utilities                    object\n",
       "lot_configuration            object\n",
       "land_slope                    int64\n",
       "neighborhood                 object\n",
       "condition_1                  object\n",
       "condition_2                  object\n",
       "dwelling_type                object\n",
       "dwelling_style               object\n",
       "overall_quality_rating        int64\n",
       "overall_condition_rating      int64\n",
       "roof_style                   object\n",
       "roof_material                object\n",
       "exterior_type_1              object\n",
       "exterior_type_2              object\n",
       "masonry_veneer_type          object\n",
       "exterior_quality_rating       int64\n",
       "exterior_condition_rating     int64\n",
       "foundation_type              object\n",
       "bsmt_quality_rating           int64\n",
       "bsmt_condition_rating         int64\n",
       "bsmt_exposure_rating          int64\n",
       "bsmt_fin_type_1_rating        int64\n",
       "bsmt_fin_type_2_rating        int64\n",
       "heating_type                 object\n",
       "heating_quality_rating        int64\n",
       "has_central_air              object\n",
       "electrical_system_type        int64\n",
       "kitchen_quality_rating        int64\n",
       "functionality_type            int64\n",
       "fireplace_quality_rating      int64\n",
       "garage_type                  object\n",
       "garage_finish_rating          int64\n",
       "garage_quality_rating         int64\n",
       "garage_condition_rating       int64\n",
       "paved_drive_type              int64\n",
       "pool_quality_rating           int64\n",
       "fence_quality_rating          int64\n",
       "misc_feature                 object\n",
       "sale_type                    object\n",
       "sale_condition               object\n",
       "dtype: object"
      ]
     },
     "execution_count": 57,
     "metadata": {},
     "output_type": "execute_result"
    }
   ],
   "source": [
    "df[catFeat].dtypes"
   ]
  },
  {
   "cell_type": "code",
   "execution_count": 58,
   "id": "e60a5fa9-ce20-4ecc-a663-0e325bde4446",
   "metadata": {},
   "outputs": [],
   "source": [
    "df.drop(columns=['utilities', 'property_id'], inplace=True)"
   ]
  },
  {
   "cell_type": "markdown",
   "id": "e0782ae9-8274-4a64-9c4f-0ce4bf96ad87",
   "metadata": {},
   "source": [
    "### Basic Outlier Removal"
   ]
  },
  {
   "cell_type": "code",
   "execution_count": 59,
   "id": "66cd26fd-06a8-4d07-b00c-a3cbc30cc1fd",
   "metadata": {},
   "outputs": [],
   "source": [
    "outlier_index = df[(df.gr_living_area_sq_ft > 4000)\n",
    "                           & (df.sale_price < 200000)].index"
   ]
  },
  {
   "cell_type": "code",
   "execution_count": 60,
   "id": "bf39103d-37e1-4b82-a5e0-0d28a90586b9",
   "metadata": {},
   "outputs": [
    {
     "data": {
      "text/plain": [
       "Int64Index([1498, 2180, 2181], dtype='int64')"
      ]
     },
     "execution_count": 60,
     "metadata": {},
     "output_type": "execute_result"
    }
   ],
   "source": [
    "outlier_index"
   ]
  },
  {
   "cell_type": "code",
   "execution_count": 61,
   "id": "15d9bab5-f6d5-4263-aca0-c1826f5c5d5c",
   "metadata": {},
   "outputs": [],
   "source": [
    "df.drop(outlier_index, axis=0, inplace=True)"
   ]
  },
  {
   "cell_type": "markdown",
   "id": "23e4955e-beae-4fa8-b821-b95f60948b83",
   "metadata": {
    "tags": []
   },
   "source": [
    "## Numerical Features"
   ]
  },
  {
   "cell_type": "code",
   "execution_count": 62,
   "id": "fde5673c-7f82-460e-81b0-c1b9580b55e2",
   "metadata": {},
   "outputs": [
    {
     "name": "stdout",
     "output_type": "stream",
     "text": [
      "There are 57 numerical features:\n",
      " ['lot_frontage_ft', 'lot_area_sq_ft', 'lot_shape', 'land_slope', 'overall_quality_rating', 'overall_condition_rating', 'year_built', 'year_remod_add', 'masonry_veneer_area_sq_ft', 'exterior_quality_rating', 'exterior_condition_rating', 'bsmt_quality_rating', 'bsmt_condition_rating', 'bsmt_exposure_rating', 'bsmt_fin_type_1_rating', 'bsmt_fin_type_1_sq_ft', 'bsmt_fin_type_2_rating', 'bsmt_fin_type_2_sq_ft', 'bsmt_unf_sq_ft', 'total_bsmt_sq_ft', 'heating_quality_rating', 'electrical_system_type', 'first_flr_sq_ft', 'second_flr_sq_ft', 'low_quality_fin_sq_ft', 'gr_living_area_sq_ft', 'bsmt_full_bath_count', 'bsmt_half_bath_count', 'full_bath_count', 'half_bath_count', 'bedroom_abv_grd_count', 'kitchen_abv_grd_count', 'kitchen_quality_rating', 'room_abv_grd_count', 'functionality_type', 'fireplace_count', 'fireplace_quality_rating', 'garage_finish_rating', 'garage_car_count', 'garage_area_sq_ft', 'garage_quality_rating', 'garage_condition_rating', 'paved_drive_type', 'wood_deck_sq_ft', 'open_porch_sq_ft', 'enclosed_porch_sq_ft', 'three_season_porch_sq_ft', 'screen_porch_sq_ft', 'pool_area_sq_ft', 'pool_quality_rating', 'fence_quality_rating', 'misc_value', 'month_sold', 'year_sold', 'sale_price', 'longitude', 'latitude']\n"
     ]
    }
   ],
   "source": [
    "numFeat = list(df.select_dtypes(exclude='object').columns)\n",
    "print(f\"There are {len(numFeat)} numerical features:\\n\", numFeat)"
   ]
  },
  {
   "cell_type": "code",
   "execution_count": 63,
   "id": "55fb5b09-5fed-4b23-9623-bbc92f0e21f1",
   "metadata": {},
   "outputs": [
    {
     "data": {
      "text/plain": [
       "lot_frontage_ft              0\n",
       "lot_area_sq_ft               0\n",
       "lot_shape                    0\n",
       "land_slope                   0\n",
       "overall_quality_rating       0\n",
       "overall_condition_rating     0\n",
       "year_built                   0\n",
       "year_remod_add               0\n",
       "masonry_veneer_area_sq_ft    0\n",
       "exterior_quality_rating      0\n",
       "exterior_condition_rating    0\n",
       "bsmt_quality_rating          0\n",
       "bsmt_condition_rating        0\n",
       "bsmt_exposure_rating         0\n",
       "bsmt_fin_type_1_rating       0\n",
       "bsmt_fin_type_1_sq_ft        0\n",
       "bsmt_fin_type_2_rating       0\n",
       "bsmt_fin_type_2_sq_ft        0\n",
       "bsmt_unf_sq_ft               0\n",
       "total_bsmt_sq_ft             0\n",
       "heating_quality_rating       0\n",
       "electrical_system_type       0\n",
       "first_flr_sq_ft              0\n",
       "second_flr_sq_ft             0\n",
       "low_quality_fin_sq_ft        0\n",
       "gr_living_area_sq_ft         0\n",
       "bsmt_full_bath_count         0\n",
       "bsmt_half_bath_count         0\n",
       "full_bath_count              0\n",
       "half_bath_count              0\n",
       "bedroom_abv_grd_count        0\n",
       "kitchen_abv_grd_count        0\n",
       "kitchen_quality_rating       0\n",
       "room_abv_grd_count           0\n",
       "functionality_type           0\n",
       "fireplace_count              0\n",
       "fireplace_quality_rating     0\n",
       "garage_finish_rating         0\n",
       "garage_car_count             0\n",
       "garage_area_sq_ft            0\n",
       "garage_quality_rating        0\n",
       "garage_condition_rating      0\n",
       "paved_drive_type             0\n",
       "wood_deck_sq_ft              0\n",
       "open_porch_sq_ft             0\n",
       "enclosed_porch_sq_ft         0\n",
       "three_season_porch_sq_ft     0\n",
       "screen_porch_sq_ft           0\n",
       "pool_area_sq_ft              0\n",
       "pool_quality_rating          0\n",
       "fence_quality_rating         0\n",
       "misc_value                   0\n",
       "month_sold                   0\n",
       "year_sold                    0\n",
       "sale_price                   0\n",
       "longitude                    0\n",
       "latitude                     0\n",
       "dtype: int64"
      ]
     },
     "execution_count": 63,
     "metadata": {},
     "output_type": "execute_result"
    }
   ],
   "source": [
    "df[numFeat].isna().sum()"
   ]
  },
  {
   "cell_type": "code",
   "execution_count": 64,
   "id": "4a05fb7b-358c-4010-bb3f-892e962f5025",
   "metadata": {},
   "outputs": [],
   "source": [
    "df.reset_index(drop=True, inplace=True)"
   ]
  },
  {
   "cell_type": "code",
   "execution_count": 65,
   "id": "629ad744-a0c6-475e-b9fd-0e19f0119aa8",
   "metadata": {},
   "outputs": [
    {
     "data": {
      "text/plain": [
       "(2927, 80)"
      ]
     },
     "execution_count": 65,
     "metadata": {},
     "output_type": "execute_result"
    }
   ],
   "source": [
    "df.shape"
   ]
  },
  {
   "cell_type": "code",
   "execution_count": 66,
   "id": "2698aaff-b4be-47ea-9ca7-aa699a7b00a9",
   "metadata": {},
   "outputs": [],
   "source": [
    "df.to_parquet('clean_data.parquet')"
   ]
  },
  {
   "cell_type": "code",
   "execution_count": 67,
   "id": "68ebf6d4-72ec-4d9b-819f-b42dbb8205a6",
   "metadata": {},
   "outputs": [],
   "source": [
    "X = df.drop(columns=['sale_price'])#, 'longitude', 'latitude'])\n",
    "y = df['sale_price']"
   ]
  },
  {
   "cell_type": "code",
   "execution_count": 68,
   "id": "dd143bb0-f7a6-4743-b73e-bb016e8c410d",
   "metadata": {},
   "outputs": [
    {
     "data": {
      "text/plain": [
       "(2927, 244)"
      ]
     },
     "execution_count": 68,
     "metadata": {},
     "output_type": "execute_result"
    }
   ],
   "source": [
    "X = pd.get_dummies(X)\n",
    "X.shape"
   ]
  },
  {
   "cell_type": "code",
   "execution_count": 69,
   "id": "685d86bb-dc98-4755-842e-72d64d9b09f4",
   "metadata": {},
   "outputs": [],
   "source": [
    "from sklearn.model_selection import train_test_split, cross_val_score\n",
    "from sklearn.metrics import r2_score, mean_absolute_error, mean_squared_error\n",
    "from sklearn.ensemble import RandomForestRegressor"
   ]
  },
  {
   "cell_type": "code",
   "execution_count": 70,
   "id": "2b40edac-3d76-4f85-ab8a-6d89227a64ec",
   "metadata": {},
   "outputs": [],
   "source": [
    "X_train, X_test, y_train, y_test = train_test_split(X, y, test_size=0.2, random_state=42)"
   ]
  },
  {
   "cell_type": "code",
   "execution_count": 73,
   "id": "48ba784e-335f-4c43-9863-7d24e9e69c3b",
   "metadata": {},
   "outputs": [],
   "source": [
    "X_train.to_parquet('X_train.parquet')\n",
    "X_test.to_parquet('X_test.parquet')\n",
    "y_train.to_csv('y_train.csv', index=False)\n",
    "y_test.to_csv('y_test.csv', index=False)"
   ]
  },
  {
   "cell_type": "code",
   "execution_count": null,
   "id": "cbd45d15-1d6d-44fc-9823-f10c94851fd9",
   "metadata": {},
   "outputs": [],
   "source": []
  }
 ],
 "metadata": {
  "kernelspec": {
   "display_name": "Python 3 (ipykernel)",
   "language": "python",
   "name": "python3"
  },
  "language_info": {
   "codemirror_mode": {
    "name": "ipython",
    "version": 3
   },
   "file_extension": ".py",
   "mimetype": "text/x-python",
   "name": "python",
   "nbconvert_exporter": "python",
   "pygments_lexer": "ipython3",
   "version": "3.8.10"
  }
 },
 "nbformat": 4,
 "nbformat_minor": 5
}
