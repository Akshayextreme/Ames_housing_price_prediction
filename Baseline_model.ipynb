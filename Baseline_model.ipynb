{
 "cells": [
  {
   "cell_type": "code",
   "execution_count": 1,
   "id": "12bc20a6-9993-4d8f-a4e8-ea8ab4178fcf",
   "metadata": {},
   "outputs": [],
   "source": [
    "import pandas as pd\n",
    "import matplotlib.pyplot as plt\n",
    "import seaborn as sns\n",
    "from sklearn.ensemble import RandomForestRegressor"
   ]
  },
  {
   "cell_type": "code",
   "execution_count": 2,
   "id": "adb3457e-7ad3-4e73-90a8-ead65335bfa6",
   "metadata": {},
   "outputs": [],
   "source": [
    "from utils import log_mlflow, modelresults"
   ]
  },
  {
   "cell_type": "code",
   "execution_count": 3,
   "id": "f3dadc3f-a1f1-4e75-8b6c-e9ae218973a3",
   "metadata": {},
   "outputs": [
    {
     "data": {
      "text/plain": [
       "<Experiment: artifact_location='./mlruns/1', creation_time=1708487973280, experiment_id='1', last_update_time=1708487973280, lifecycle_stage='active', name='PriceHubble assignment', tags={}>"
      ]
     },
     "execution_count": 3,
     "metadata": {},
     "output_type": "execute_result"
    }
   ],
   "source": [
    "import mlflow\n",
    "\n",
    "mlflow.set_tracking_uri(uri=\"http://localhost:8080\")\n",
    "mlflow.set_experiment(\"PriceHubble assignment\")"
   ]
  },
  {
   "cell_type": "code",
   "execution_count": 4,
   "id": "48ba784e-335f-4c43-9863-7d24e9e69c3b",
   "metadata": {},
   "outputs": [],
   "source": [
    "X_train = pd.read_parquet('X_train.parquet')\n",
    "X_test = pd.read_parquet('X_test.parquet')\n",
    "y_train = pd.read_csv('y_train.csv')\n",
    "y_test = pd.read_csv('y_test.csv')"
   ]
  },
  {
   "cell_type": "code",
   "execution_count": 5,
   "id": "3b609d0d-6cc1-4cf6-88e0-1b0fc4d061a7",
   "metadata": {},
   "outputs": [],
   "source": [
    "rf = RandomForestRegressor(n_estimators=50, n_jobs=-1)\n",
    "rf = rf.fit(X_train, y_train['sale_price'])"
   ]
  },
  {
   "cell_type": "code",
   "execution_count": 6,
   "id": "077a6c06-458d-48fa-8393-8bb041b8a02b",
   "metadata": {},
   "outputs": [],
   "source": [
    "y_pred = rf.predict(X_test)"
   ]
  },
  {
   "cell_type": "code",
   "execution_count": 7,
   "id": "5dceaea3-5e89-4177-b534-46e1a65fd9d8",
   "metadata": {},
   "outputs": [
    {
     "name": "stdout",
     "output_type": "stream",
     "text": [
      "Mean absolute error on model is 15578.2228\n",
      "\n",
      "Mean squared error on model is 623029089.1080\n",
      "\n",
      "The r2 score on model is 0.9227\n"
     ]
    }
   ],
   "source": [
    "mae, mse, r2 = modelresults(y_test, y_pred)"
   ]
  },
  {
   "cell_type": "code",
   "execution_count": 8,
   "id": "b36e405b-1773-41b5-aab0-a72e5c32a0db",
   "metadata": {},
   "outputs": [
    {
     "data": {
      "image/png": "[encoded data removed]",
      "text/plain": [
       "<Figure size 864x432 with 1 Axes>"
      ]
     },
     "metadata": {
      "needs_background": "light"
     },
     "output_type": "display_data"
    }
   ],
   "source": [
    "rankings = rf.feature_importances_.tolist()\n",
    "importance = pd.DataFrame(sorted(zip(X_train.columns,rankings),reverse=True),columns=[\"variable\",\"importance\"]).sort_values(\"importance\",ascending = False)\n",
    "\n",
    "fig = plt.figure(figsize=(12,6))\n",
    "sns.barplot(x=\"importance\",\n",
    "            y=\"variable\",\n",
    "            data=importance.iloc[:10, :])\n",
    "plt.title('Variable Importance')\n",
    "plt.tight_layout()"
   ]
  },
  {
   "cell_type": "code",
   "execution_count": 9,
   "id": "30afe113-348c-4ea2-b884-65f7f1ec50ae",
   "metadata": {},
   "outputs": [
    {
     "name": "stderr",
     "output_type": "stream",
     "text": [
      "/home/akshay/envs/topic_modeling/lib/python3.8/site-packages/mlflow/types/utils.py:393: UserWarning: Hint: Inferred schema contains integer column(s). Integer columns in Python cannot represent missing values. If your input data contains missing values at inference time, it will be encoded as floats and will cause a schema enforcement error. The best way to avoid this problem is to infer the model schema based on a realistic data sample (training dataset) that includes missing values. Alternatively, you can declare integer columns as doubles (float64) whenever these columns may have missing values. See `Handling Integers With Missing Values <https://www.mlflow.org/docs/latest/models.html#handling-integers-with-missing-values>`_ for more details.\n",
      "  warnings.warn(\n",
      "Registered model 'RF_baseline' already exists. Creating a new version of this model...\n",
      "2024/02/21 04:07:08 INFO mlflow.store.model_registry.abstract_store: Waiting up to 300 seconds for model version to finish creation. Model name: RF_baseline, version 3\n",
      "Created version '3' of model 'RF_baseline'.\n"
     ]
    }
   ],
   "source": [
    "log_mlflow(rf.get_params(), mae, mse, r2, fig, X_train, rf, run_name='RF_baseline', description='Random Forest Baseline')"
   ]
  },
  {
   "cell_type": "code",
   "execution_count": null,
   "id": "2a49cfb2-bb52-4e0d-9dc8-e0237c628114",
   "metadata": {},
   "outputs": [],
   "source": []
  }
 ],
 "metadata": {
  "kernelspec": {
   "display_name": "Python 3 (ipykernel)",
   "language": "python",
   "name": "python3"
  },
  "language_info": {
   "codemirror_mode": {
    "name": "ipython",
    "version": 3
   },
   "file_extension": ".py",
   "mimetype": "text/x-python",
   "name": "python",
   "nbconvert_exporter": "python",
   "pygments_lexer": "ipython3",
   "version": "3.8.10"
  }
 },
 "nbformat": 4,
 "nbformat_minor": 5
}
